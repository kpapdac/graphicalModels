{
  "nbformat": 4,
  "nbformat_minor": 0,
  "metadata": {
    "colab": {
      "name": "pgm_beliefpropagation.ipynb",
      "provenance": [],
      "collapsed_sections": [],
      "authorship_tag": "ABX9TyO+wix7O3ZSG1phsMJOrA2K",
      "include_colab_link": true
    },
    "kernelspec": {
      "name": "python3",
      "display_name": "Python 3"
    },
    "language_info": {
      "name": "python"
    },
    "widgets": {
      "application/vnd.jupyter.widget-state+json": {
        "5d5f57236d014b0395f15b9570e47d3a": {
          "model_module": "@jupyter-widgets/controls",
          "model_name": "HBoxModel",
          "model_module_version": "1.5.0",
          "state": {
            "_dom_classes": [],
            "_model_module": "@jupyter-widgets/controls",
            "_model_module_version": "1.5.0",
            "_model_name": "HBoxModel",
            "_view_count": null,
            "_view_module": "@jupyter-widgets/controls",
            "_view_module_version": "1.5.0",
            "_view_name": "HBoxView",
            "box_style": "",
            "children": [
              "IPY_MODEL_d8ec7f54d44347ad8ad8e36dab91360c",
              "IPY_MODEL_cde875f85ff5412492aa170d2b23dc0d",
              "IPY_MODEL_eeac89e5d0d44a1691889d4a58e57193"
            ],
            "layout": "IPY_MODEL_d107c231ca3a40a3bada654c532e3d1c"
          }
        },
        "d8ec7f54d44347ad8ad8e36dab91360c": {
          "model_module": "@jupyter-widgets/controls",
          "model_name": "HTMLModel",
          "model_module_version": "1.5.0",
          "state": {
            "_dom_classes": [],
            "_model_module": "@jupyter-widgets/controls",
            "_model_module_version": "1.5.0",
            "_model_name": "HTMLModel",
            "_view_count": null,
            "_view_module": "@jupyter-widgets/controls",
            "_view_module_version": "1.5.0",
            "_view_name": "HTMLView",
            "description": "",
            "description_tooltip": null,
            "layout": "IPY_MODEL_6b836efe805942e2ab39c1771ac4b4f1",
            "placeholder": "​",
            "style": "IPY_MODEL_a584ec9b4f924fea926424850d3282b7",
            "value": ""
          }
        },
        "cde875f85ff5412492aa170d2b23dc0d": {
          "model_module": "@jupyter-widgets/controls",
          "model_name": "FloatProgressModel",
          "model_module_version": "1.5.0",
          "state": {
            "_dom_classes": [],
            "_model_module": "@jupyter-widgets/controls",
            "_model_module_version": "1.5.0",
            "_model_name": "FloatProgressModel",
            "_view_count": null,
            "_view_module": "@jupyter-widgets/controls",
            "_view_module_version": "1.5.0",
            "_view_name": "ProgressView",
            "bar_style": "success",
            "description": "",
            "description_tooltip": null,
            "layout": "IPY_MODEL_92125f4ed1d04cc3a79652cde433f223",
            "max": 1,
            "min": 0,
            "orientation": "horizontal",
            "style": "IPY_MODEL_b51bc9b6f04c414eb88e6a11128dc505",
            "value": 0
          }
        },
        "eeac89e5d0d44a1691889d4a58e57193": {
          "model_module": "@jupyter-widgets/controls",
          "model_name": "HTMLModel",
          "model_module_version": "1.5.0",
          "state": {
            "_dom_classes": [],
            "_model_module": "@jupyter-widgets/controls",
            "_model_module_version": "1.5.0",
            "_model_name": "HTMLModel",
            "_view_count": null,
            "_view_module": "@jupyter-widgets/controls",
            "_view_module_version": "1.5.0",
            "_view_name": "HTMLView",
            "description": "",
            "description_tooltip": null,
            "layout": "IPY_MODEL_8aece09d35fb4b8ea50b17d3f0ee5f52",
            "placeholder": "​",
            "style": "IPY_MODEL_74e1fa211acb4a98be561fd440d87de5",
            "value": " 0/0 [00:00&lt;?, ?it/s]"
          }
        },
        "d107c231ca3a40a3bada654c532e3d1c": {
          "model_module": "@jupyter-widgets/base",
          "model_name": "LayoutModel",
          "model_module_version": "1.2.0",
          "state": {
            "_model_module": "@jupyter-widgets/base",
            "_model_module_version": "1.2.0",
            "_model_name": "LayoutModel",
            "_view_count": null,
            "_view_module": "@jupyter-widgets/base",
            "_view_module_version": "1.2.0",
            "_view_name": "LayoutView",
            "align_content": null,
            "align_items": null,
            "align_self": null,
            "border": null,
            "bottom": null,
            "display": null,
            "flex": null,
            "flex_flow": null,
            "grid_area": null,
            "grid_auto_columns": null,
            "grid_auto_flow": null,
            "grid_auto_rows": null,
            "grid_column": null,
            "grid_gap": null,
            "grid_row": null,
            "grid_template_areas": null,
            "grid_template_columns": null,
            "grid_template_rows": null,
            "height": null,
            "justify_content": null,
            "justify_items": null,
            "left": null,
            "margin": null,
            "max_height": null,
            "max_width": null,
            "min_height": null,
            "min_width": null,
            "object_fit": null,
            "object_position": null,
            "order": null,
            "overflow": null,
            "overflow_x": null,
            "overflow_y": null,
            "padding": null,
            "right": null,
            "top": null,
            "visibility": null,
            "width": null
          }
        },
        "6b836efe805942e2ab39c1771ac4b4f1": {
          "model_module": "@jupyter-widgets/base",
          "model_name": "LayoutModel",
          "model_module_version": "1.2.0",
          "state": {
            "_model_module": "@jupyter-widgets/base",
            "_model_module_version": "1.2.0",
            "_model_name": "LayoutModel",
            "_view_count": null,
            "_view_module": "@jupyter-widgets/base",
            "_view_module_version": "1.2.0",
            "_view_name": "LayoutView",
            "align_content": null,
            "align_items": null,
            "align_self": null,
            "border": null,
            "bottom": null,
            "display": null,
            "flex": null,
            "flex_flow": null,
            "grid_area": null,
            "grid_auto_columns": null,
            "grid_auto_flow": null,
            "grid_auto_rows": null,
            "grid_column": null,
            "grid_gap": null,
            "grid_row": null,
            "grid_template_areas": null,
            "grid_template_columns": null,
            "grid_template_rows": null,
            "height": null,
            "justify_content": null,
            "justify_items": null,
            "left": null,
            "margin": null,
            "max_height": null,
            "max_width": null,
            "min_height": null,
            "min_width": null,
            "object_fit": null,
            "object_position": null,
            "order": null,
            "overflow": null,
            "overflow_x": null,
            "overflow_y": null,
            "padding": null,
            "right": null,
            "top": null,
            "visibility": null,
            "width": null
          }
        },
        "a584ec9b4f924fea926424850d3282b7": {
          "model_module": "@jupyter-widgets/controls",
          "model_name": "DescriptionStyleModel",
          "model_module_version": "1.5.0",
          "state": {
            "_model_module": "@jupyter-widgets/controls",
            "_model_module_version": "1.5.0",
            "_model_name": "DescriptionStyleModel",
            "_view_count": null,
            "_view_module": "@jupyter-widgets/base",
            "_view_module_version": "1.2.0",
            "_view_name": "StyleView",
            "description_width": ""
          }
        },
        "92125f4ed1d04cc3a79652cde433f223": {
          "model_module": "@jupyter-widgets/base",
          "model_name": "LayoutModel",
          "model_module_version": "1.2.0",
          "state": {
            "_model_module": "@jupyter-widgets/base",
            "_model_module_version": "1.2.0",
            "_model_name": "LayoutModel",
            "_view_count": null,
            "_view_module": "@jupyter-widgets/base",
            "_view_module_version": "1.2.0",
            "_view_name": "LayoutView",
            "align_content": null,
            "align_items": null,
            "align_self": null,
            "border": null,
            "bottom": null,
            "display": null,
            "flex": null,
            "flex_flow": null,
            "grid_area": null,
            "grid_auto_columns": null,
            "grid_auto_flow": null,
            "grid_auto_rows": null,
            "grid_column": null,
            "grid_gap": null,
            "grid_row": null,
            "grid_template_areas": null,
            "grid_template_columns": null,
            "grid_template_rows": null,
            "height": null,
            "justify_content": null,
            "justify_items": null,
            "left": null,
            "margin": null,
            "max_height": null,
            "max_width": null,
            "min_height": null,
            "min_width": null,
            "object_fit": null,
            "object_position": null,
            "order": null,
            "overflow": null,
            "overflow_x": null,
            "overflow_y": null,
            "padding": null,
            "right": null,
            "top": null,
            "visibility": null,
            "width": "20px"
          }
        },
        "b51bc9b6f04c414eb88e6a11128dc505": {
          "model_module": "@jupyter-widgets/controls",
          "model_name": "ProgressStyleModel",
          "model_module_version": "1.5.0",
          "state": {
            "_model_module": "@jupyter-widgets/controls",
            "_model_module_version": "1.5.0",
            "_model_name": "ProgressStyleModel",
            "_view_count": null,
            "_view_module": "@jupyter-widgets/base",
            "_view_module_version": "1.2.0",
            "_view_name": "StyleView",
            "bar_color": null,
            "description_width": ""
          }
        },
        "8aece09d35fb4b8ea50b17d3f0ee5f52": {
          "model_module": "@jupyter-widgets/base",
          "model_name": "LayoutModel",
          "model_module_version": "1.2.0",
          "state": {
            "_model_module": "@jupyter-widgets/base",
            "_model_module_version": "1.2.0",
            "_model_name": "LayoutModel",
            "_view_count": null,
            "_view_module": "@jupyter-widgets/base",
            "_view_module_version": "1.2.0",
            "_view_name": "LayoutView",
            "align_content": null,
            "align_items": null,
            "align_self": null,
            "border": null,
            "bottom": null,
            "display": null,
            "flex": null,
            "flex_flow": null,
            "grid_area": null,
            "grid_auto_columns": null,
            "grid_auto_flow": null,
            "grid_auto_rows": null,
            "grid_column": null,
            "grid_gap": null,
            "grid_row": null,
            "grid_template_areas": null,
            "grid_template_columns": null,
            "grid_template_rows": null,
            "height": null,
            "justify_content": null,
            "justify_items": null,
            "left": null,
            "margin": null,
            "max_height": null,
            "max_width": null,
            "min_height": null,
            "min_width": null,
            "object_fit": null,
            "object_position": null,
            "order": null,
            "overflow": null,
            "overflow_x": null,
            "overflow_y": null,
            "padding": null,
            "right": null,
            "top": null,
            "visibility": null,
            "width": null
          }
        },
        "74e1fa211acb4a98be561fd440d87de5": {
          "model_module": "@jupyter-widgets/controls",
          "model_name": "DescriptionStyleModel",
          "model_module_version": "1.5.0",
          "state": {
            "_model_module": "@jupyter-widgets/controls",
            "_model_module_version": "1.5.0",
            "_model_name": "DescriptionStyleModel",
            "_view_count": null,
            "_view_module": "@jupyter-widgets/base",
            "_view_module_version": "1.2.0",
            "_view_name": "StyleView",
            "description_width": ""
          }
        },
        "619ebede04614988872a81b611061f74": {
          "model_module": "@jupyter-widgets/controls",
          "model_name": "HBoxModel",
          "model_module_version": "1.5.0",
          "state": {
            "_dom_classes": [],
            "_model_module": "@jupyter-widgets/controls",
            "_model_module_version": "1.5.0",
            "_model_name": "HBoxModel",
            "_view_count": null,
            "_view_module": "@jupyter-widgets/controls",
            "_view_module_version": "1.5.0",
            "_view_name": "HBoxView",
            "box_style": "",
            "children": [
              "IPY_MODEL_aba68cdfc79249e5ab86869504abcec4",
              "IPY_MODEL_ee2e7f5a1c124c8da65385f756996987",
              "IPY_MODEL_99b87c0202d64f18ad0748429283b061"
            ],
            "layout": "IPY_MODEL_348e09bba1184f1794de3fbd8419c286"
          }
        },
        "aba68cdfc79249e5ab86869504abcec4": {
          "model_module": "@jupyter-widgets/controls",
          "model_name": "HTMLModel",
          "model_module_version": "1.5.0",
          "state": {
            "_dom_classes": [],
            "_model_module": "@jupyter-widgets/controls",
            "_model_module_version": "1.5.0",
            "_model_name": "HTMLModel",
            "_view_count": null,
            "_view_module": "@jupyter-widgets/controls",
            "_view_module_version": "1.5.0",
            "_view_name": "HTMLView",
            "description": "",
            "description_tooltip": null,
            "layout": "IPY_MODEL_287bd1e4de1946dda7bae22032e44789",
            "placeholder": "​",
            "style": "IPY_MODEL_af089bca7cd6435b951b619bde9d7ab9",
            "value": ""
          }
        },
        "ee2e7f5a1c124c8da65385f756996987": {
          "model_module": "@jupyter-widgets/controls",
          "model_name": "FloatProgressModel",
          "model_module_version": "1.5.0",
          "state": {
            "_dom_classes": [],
            "_model_module": "@jupyter-widgets/controls",
            "_model_module_version": "1.5.0",
            "_model_name": "FloatProgressModel",
            "_view_count": null,
            "_view_module": "@jupyter-widgets/controls",
            "_view_module_version": "1.5.0",
            "_view_name": "ProgressView",
            "bar_style": "success",
            "description": "",
            "description_tooltip": null,
            "layout": "IPY_MODEL_5db2e5fcb3994abdbba1d0e34cea4ade",
            "max": 1,
            "min": 0,
            "orientation": "horizontal",
            "style": "IPY_MODEL_8ba9c4a73d4f4356a4de547c18b6376c",
            "value": 0
          }
        },
        "99b87c0202d64f18ad0748429283b061": {
          "model_module": "@jupyter-widgets/controls",
          "model_name": "HTMLModel",
          "model_module_version": "1.5.0",
          "state": {
            "_dom_classes": [],
            "_model_module": "@jupyter-widgets/controls",
            "_model_module_version": "1.5.0",
            "_model_name": "HTMLModel",
            "_view_count": null,
            "_view_module": "@jupyter-widgets/controls",
            "_view_module_version": "1.5.0",
            "_view_name": "HTMLView",
            "description": "",
            "description_tooltip": null,
            "layout": "IPY_MODEL_2da9e6cd478149c484e844ffaf349efc",
            "placeholder": "​",
            "style": "IPY_MODEL_95ab7749df684ac9b8b6781969f95ca4",
            "value": " 0/0 [00:00&lt;?, ?it/s]"
          }
        },
        "348e09bba1184f1794de3fbd8419c286": {
          "model_module": "@jupyter-widgets/base",
          "model_name": "LayoutModel",
          "model_module_version": "1.2.0",
          "state": {
            "_model_module": "@jupyter-widgets/base",
            "_model_module_version": "1.2.0",
            "_model_name": "LayoutModel",
            "_view_count": null,
            "_view_module": "@jupyter-widgets/base",
            "_view_module_version": "1.2.0",
            "_view_name": "LayoutView",
            "align_content": null,
            "align_items": null,
            "align_self": null,
            "border": null,
            "bottom": null,
            "display": null,
            "flex": null,
            "flex_flow": null,
            "grid_area": null,
            "grid_auto_columns": null,
            "grid_auto_flow": null,
            "grid_auto_rows": null,
            "grid_column": null,
            "grid_gap": null,
            "grid_row": null,
            "grid_template_areas": null,
            "grid_template_columns": null,
            "grid_template_rows": null,
            "height": null,
            "justify_content": null,
            "justify_items": null,
            "left": null,
            "margin": null,
            "max_height": null,
            "max_width": null,
            "min_height": null,
            "min_width": null,
            "object_fit": null,
            "object_position": null,
            "order": null,
            "overflow": null,
            "overflow_x": null,
            "overflow_y": null,
            "padding": null,
            "right": null,
            "top": null,
            "visibility": null,
            "width": null
          }
        },
        "287bd1e4de1946dda7bae22032e44789": {
          "model_module": "@jupyter-widgets/base",
          "model_name": "LayoutModel",
          "model_module_version": "1.2.0",
          "state": {
            "_model_module": "@jupyter-widgets/base",
            "_model_module_version": "1.2.0",
            "_model_name": "LayoutModel",
            "_view_count": null,
            "_view_module": "@jupyter-widgets/base",
            "_view_module_version": "1.2.0",
            "_view_name": "LayoutView",
            "align_content": null,
            "align_items": null,
            "align_self": null,
            "border": null,
            "bottom": null,
            "display": null,
            "flex": null,
            "flex_flow": null,
            "grid_area": null,
            "grid_auto_columns": null,
            "grid_auto_flow": null,
            "grid_auto_rows": null,
            "grid_column": null,
            "grid_gap": null,
            "grid_row": null,
            "grid_template_areas": null,
            "grid_template_columns": null,
            "grid_template_rows": null,
            "height": null,
            "justify_content": null,
            "justify_items": null,
            "left": null,
            "margin": null,
            "max_height": null,
            "max_width": null,
            "min_height": null,
            "min_width": null,
            "object_fit": null,
            "object_position": null,
            "order": null,
            "overflow": null,
            "overflow_x": null,
            "overflow_y": null,
            "padding": null,
            "right": null,
            "top": null,
            "visibility": null,
            "width": null
          }
        },
        "af089bca7cd6435b951b619bde9d7ab9": {
          "model_module": "@jupyter-widgets/controls",
          "model_name": "DescriptionStyleModel",
          "model_module_version": "1.5.0",
          "state": {
            "_model_module": "@jupyter-widgets/controls",
            "_model_module_version": "1.5.0",
            "_model_name": "DescriptionStyleModel",
            "_view_count": null,
            "_view_module": "@jupyter-widgets/base",
            "_view_module_version": "1.2.0",
            "_view_name": "StyleView",
            "description_width": ""
          }
        },
        "5db2e5fcb3994abdbba1d0e34cea4ade": {
          "model_module": "@jupyter-widgets/base",
          "model_name": "LayoutModel",
          "model_module_version": "1.2.0",
          "state": {
            "_model_module": "@jupyter-widgets/base",
            "_model_module_version": "1.2.0",
            "_model_name": "LayoutModel",
            "_view_count": null,
            "_view_module": "@jupyter-widgets/base",
            "_view_module_version": "1.2.0",
            "_view_name": "LayoutView",
            "align_content": null,
            "align_items": null,
            "align_self": null,
            "border": null,
            "bottom": null,
            "display": null,
            "flex": null,
            "flex_flow": null,
            "grid_area": null,
            "grid_auto_columns": null,
            "grid_auto_flow": null,
            "grid_auto_rows": null,
            "grid_column": null,
            "grid_gap": null,
            "grid_row": null,
            "grid_template_areas": null,
            "grid_template_columns": null,
            "grid_template_rows": null,
            "height": null,
            "justify_content": null,
            "justify_items": null,
            "left": null,
            "margin": null,
            "max_height": null,
            "max_width": null,
            "min_height": null,
            "min_width": null,
            "object_fit": null,
            "object_position": null,
            "order": null,
            "overflow": null,
            "overflow_x": null,
            "overflow_y": null,
            "padding": null,
            "right": null,
            "top": null,
            "visibility": null,
            "width": "20px"
          }
        },
        "8ba9c4a73d4f4356a4de547c18b6376c": {
          "model_module": "@jupyter-widgets/controls",
          "model_name": "ProgressStyleModel",
          "model_module_version": "1.5.0",
          "state": {
            "_model_module": "@jupyter-widgets/controls",
            "_model_module_version": "1.5.0",
            "_model_name": "ProgressStyleModel",
            "_view_count": null,
            "_view_module": "@jupyter-widgets/base",
            "_view_module_version": "1.2.0",
            "_view_name": "StyleView",
            "bar_color": null,
            "description_width": ""
          }
        },
        "2da9e6cd478149c484e844ffaf349efc": {
          "model_module": "@jupyter-widgets/base",
          "model_name": "LayoutModel",
          "model_module_version": "1.2.0",
          "state": {
            "_model_module": "@jupyter-widgets/base",
            "_model_module_version": "1.2.0",
            "_model_name": "LayoutModel",
            "_view_count": null,
            "_view_module": "@jupyter-widgets/base",
            "_view_module_version": "1.2.0",
            "_view_name": "LayoutView",
            "align_content": null,
            "align_items": null,
            "align_self": null,
            "border": null,
            "bottom": null,
            "display": null,
            "flex": null,
            "flex_flow": null,
            "grid_area": null,
            "grid_auto_columns": null,
            "grid_auto_flow": null,
            "grid_auto_rows": null,
            "grid_column": null,
            "grid_gap": null,
            "grid_row": null,
            "grid_template_areas": null,
            "grid_template_columns": null,
            "grid_template_rows": null,
            "height": null,
            "justify_content": null,
            "justify_items": null,
            "left": null,
            "margin": null,
            "max_height": null,
            "max_width": null,
            "min_height": null,
            "min_width": null,
            "object_fit": null,
            "object_position": null,
            "order": null,
            "overflow": null,
            "overflow_x": null,
            "overflow_y": null,
            "padding": null,
            "right": null,
            "top": null,
            "visibility": null,
            "width": null
          }
        },
        "95ab7749df684ac9b8b6781969f95ca4": {
          "model_module": "@jupyter-widgets/controls",
          "model_name": "DescriptionStyleModel",
          "model_module_version": "1.5.0",
          "state": {
            "_model_module": "@jupyter-widgets/controls",
            "_model_module_version": "1.5.0",
            "_model_name": "DescriptionStyleModel",
            "_view_count": null,
            "_view_module": "@jupyter-widgets/base",
            "_view_module_version": "1.2.0",
            "_view_name": "StyleView",
            "description_width": ""
          }
        },
        "95cfbb103f3944689d362e56ac6fdb28": {
          "model_module": "@jupyter-widgets/controls",
          "model_name": "HBoxModel",
          "model_module_version": "1.5.0",
          "state": {
            "_dom_classes": [],
            "_model_module": "@jupyter-widgets/controls",
            "_model_module_version": "1.5.0",
            "_model_name": "HBoxModel",
            "_view_count": null,
            "_view_module": "@jupyter-widgets/controls",
            "_view_module_version": "1.5.0",
            "_view_name": "HBoxView",
            "box_style": "",
            "children": [
              "IPY_MODEL_a8d22f89dd2c43708111325f07a3c7fc",
              "IPY_MODEL_fc679ee1f8e443a49ab996cf5106a5fc",
              "IPY_MODEL_8e953a1d05ae4e6fa8efb907aa174edc"
            ],
            "layout": "IPY_MODEL_86f41a56cbc946eabc66d43a8c7a797a"
          }
        },
        "a8d22f89dd2c43708111325f07a3c7fc": {
          "model_module": "@jupyter-widgets/controls",
          "model_name": "HTMLModel",
          "model_module_version": "1.5.0",
          "state": {
            "_dom_classes": [],
            "_model_module": "@jupyter-widgets/controls",
            "_model_module_version": "1.5.0",
            "_model_name": "HTMLModel",
            "_view_count": null,
            "_view_module": "@jupyter-widgets/controls",
            "_view_module_version": "1.5.0",
            "_view_name": "HTMLView",
            "description": "",
            "description_tooltip": null,
            "layout": "IPY_MODEL_7fcab91410e848c3ada8fc0c452160de",
            "placeholder": "​",
            "style": "IPY_MODEL_bbb1a813fc494bc29042f2718a8c192d",
            "value": ""
          }
        },
        "fc679ee1f8e443a49ab996cf5106a5fc": {
          "model_module": "@jupyter-widgets/controls",
          "model_name": "FloatProgressModel",
          "model_module_version": "1.5.0",
          "state": {
            "_dom_classes": [],
            "_model_module": "@jupyter-widgets/controls",
            "_model_module_version": "1.5.0",
            "_model_name": "FloatProgressModel",
            "_view_count": null,
            "_view_module": "@jupyter-widgets/controls",
            "_view_module_version": "1.5.0",
            "_view_name": "ProgressView",
            "bar_style": "success",
            "description": "",
            "description_tooltip": null,
            "layout": "IPY_MODEL_82262dc56c2a48ff99223d37f5167406",
            "max": 1,
            "min": 0,
            "orientation": "horizontal",
            "style": "IPY_MODEL_c13bd49587d34d9fb15d293d7810bd3a",
            "value": 0
          }
        },
        "8e953a1d05ae4e6fa8efb907aa174edc": {
          "model_module": "@jupyter-widgets/controls",
          "model_name": "HTMLModel",
          "model_module_version": "1.5.0",
          "state": {
            "_dom_classes": [],
            "_model_module": "@jupyter-widgets/controls",
            "_model_module_version": "1.5.0",
            "_model_name": "HTMLModel",
            "_view_count": null,
            "_view_module": "@jupyter-widgets/controls",
            "_view_module_version": "1.5.0",
            "_view_name": "HTMLView",
            "description": "",
            "description_tooltip": null,
            "layout": "IPY_MODEL_1c67c69beb8a451080f6f901956cd7bb",
            "placeholder": "​",
            "style": "IPY_MODEL_d64602a7ae324dd096ec97f6282567d8",
            "value": " 0/0 [00:00&lt;?, ?it/s]"
          }
        },
        "86f41a56cbc946eabc66d43a8c7a797a": {
          "model_module": "@jupyter-widgets/base",
          "model_name": "LayoutModel",
          "model_module_version": "1.2.0",
          "state": {
            "_model_module": "@jupyter-widgets/base",
            "_model_module_version": "1.2.0",
            "_model_name": "LayoutModel",
            "_view_count": null,
            "_view_module": "@jupyter-widgets/base",
            "_view_module_version": "1.2.0",
            "_view_name": "LayoutView",
            "align_content": null,
            "align_items": null,
            "align_self": null,
            "border": null,
            "bottom": null,
            "display": null,
            "flex": null,
            "flex_flow": null,
            "grid_area": null,
            "grid_auto_columns": null,
            "grid_auto_flow": null,
            "grid_auto_rows": null,
            "grid_column": null,
            "grid_gap": null,
            "grid_row": null,
            "grid_template_areas": null,
            "grid_template_columns": null,
            "grid_template_rows": null,
            "height": null,
            "justify_content": null,
            "justify_items": null,
            "left": null,
            "margin": null,
            "max_height": null,
            "max_width": null,
            "min_height": null,
            "min_width": null,
            "object_fit": null,
            "object_position": null,
            "order": null,
            "overflow": null,
            "overflow_x": null,
            "overflow_y": null,
            "padding": null,
            "right": null,
            "top": null,
            "visibility": null,
            "width": null
          }
        },
        "7fcab91410e848c3ada8fc0c452160de": {
          "model_module": "@jupyter-widgets/base",
          "model_name": "LayoutModel",
          "model_module_version": "1.2.0",
          "state": {
            "_model_module": "@jupyter-widgets/base",
            "_model_module_version": "1.2.0",
            "_model_name": "LayoutModel",
            "_view_count": null,
            "_view_module": "@jupyter-widgets/base",
            "_view_module_version": "1.2.0",
            "_view_name": "LayoutView",
            "align_content": null,
            "align_items": null,
            "align_self": null,
            "border": null,
            "bottom": null,
            "display": null,
            "flex": null,
            "flex_flow": null,
            "grid_area": null,
            "grid_auto_columns": null,
            "grid_auto_flow": null,
            "grid_auto_rows": null,
            "grid_column": null,
            "grid_gap": null,
            "grid_row": null,
            "grid_template_areas": null,
            "grid_template_columns": null,
            "grid_template_rows": null,
            "height": null,
            "justify_content": null,
            "justify_items": null,
            "left": null,
            "margin": null,
            "max_height": null,
            "max_width": null,
            "min_height": null,
            "min_width": null,
            "object_fit": null,
            "object_position": null,
            "order": null,
            "overflow": null,
            "overflow_x": null,
            "overflow_y": null,
            "padding": null,
            "right": null,
            "top": null,
            "visibility": null,
            "width": null
          }
        },
        "bbb1a813fc494bc29042f2718a8c192d": {
          "model_module": "@jupyter-widgets/controls",
          "model_name": "DescriptionStyleModel",
          "model_module_version": "1.5.0",
          "state": {
            "_model_module": "@jupyter-widgets/controls",
            "_model_module_version": "1.5.0",
            "_model_name": "DescriptionStyleModel",
            "_view_count": null,
            "_view_module": "@jupyter-widgets/base",
            "_view_module_version": "1.2.0",
            "_view_name": "StyleView",
            "description_width": ""
          }
        },
        "82262dc56c2a48ff99223d37f5167406": {
          "model_module": "@jupyter-widgets/base",
          "model_name": "LayoutModel",
          "model_module_version": "1.2.0",
          "state": {
            "_model_module": "@jupyter-widgets/base",
            "_model_module_version": "1.2.0",
            "_model_name": "LayoutModel",
            "_view_count": null,
            "_view_module": "@jupyter-widgets/base",
            "_view_module_version": "1.2.0",
            "_view_name": "LayoutView",
            "align_content": null,
            "align_items": null,
            "align_self": null,
            "border": null,
            "bottom": null,
            "display": null,
            "flex": null,
            "flex_flow": null,
            "grid_area": null,
            "grid_auto_columns": null,
            "grid_auto_flow": null,
            "grid_auto_rows": null,
            "grid_column": null,
            "grid_gap": null,
            "grid_row": null,
            "grid_template_areas": null,
            "grid_template_columns": null,
            "grid_template_rows": null,
            "height": null,
            "justify_content": null,
            "justify_items": null,
            "left": null,
            "margin": null,
            "max_height": null,
            "max_width": null,
            "min_height": null,
            "min_width": null,
            "object_fit": null,
            "object_position": null,
            "order": null,
            "overflow": null,
            "overflow_x": null,
            "overflow_y": null,
            "padding": null,
            "right": null,
            "top": null,
            "visibility": null,
            "width": "20px"
          }
        },
        "c13bd49587d34d9fb15d293d7810bd3a": {
          "model_module": "@jupyter-widgets/controls",
          "model_name": "ProgressStyleModel",
          "model_module_version": "1.5.0",
          "state": {
            "_model_module": "@jupyter-widgets/controls",
            "_model_module_version": "1.5.0",
            "_model_name": "ProgressStyleModel",
            "_view_count": null,
            "_view_module": "@jupyter-widgets/base",
            "_view_module_version": "1.2.0",
            "_view_name": "StyleView",
            "bar_color": null,
            "description_width": ""
          }
        },
        "1c67c69beb8a451080f6f901956cd7bb": {
          "model_module": "@jupyter-widgets/base",
          "model_name": "LayoutModel",
          "model_module_version": "1.2.0",
          "state": {
            "_model_module": "@jupyter-widgets/base",
            "_model_module_version": "1.2.0",
            "_model_name": "LayoutModel",
            "_view_count": null,
            "_view_module": "@jupyter-widgets/base",
            "_view_module_version": "1.2.0",
            "_view_name": "LayoutView",
            "align_content": null,
            "align_items": null,
            "align_self": null,
            "border": null,
            "bottom": null,
            "display": null,
            "flex": null,
            "flex_flow": null,
            "grid_area": null,
            "grid_auto_columns": null,
            "grid_auto_flow": null,
            "grid_auto_rows": null,
            "grid_column": null,
            "grid_gap": null,
            "grid_row": null,
            "grid_template_areas": null,
            "grid_template_columns": null,
            "grid_template_rows": null,
            "height": null,
            "justify_content": null,
            "justify_items": null,
            "left": null,
            "margin": null,
            "max_height": null,
            "max_width": null,
            "min_height": null,
            "min_width": null,
            "object_fit": null,
            "object_position": null,
            "order": null,
            "overflow": null,
            "overflow_x": null,
            "overflow_y": null,
            "padding": null,
            "right": null,
            "top": null,
            "visibility": null,
            "width": null
          }
        },
        "d64602a7ae324dd096ec97f6282567d8": {
          "model_module": "@jupyter-widgets/controls",
          "model_name": "DescriptionStyleModel",
          "model_module_version": "1.5.0",
          "state": {
            "_model_module": "@jupyter-widgets/controls",
            "_model_module_version": "1.5.0",
            "_model_name": "DescriptionStyleModel",
            "_view_count": null,
            "_view_module": "@jupyter-widgets/base",
            "_view_module_version": "1.2.0",
            "_view_name": "StyleView",
            "description_width": ""
          }
        },
        "d89da7164b4a4bf08a0b045b4dfa2eb8": {
          "model_module": "@jupyter-widgets/controls",
          "model_name": "HBoxModel",
          "model_module_version": "1.5.0",
          "state": {
            "_dom_classes": [],
            "_model_module": "@jupyter-widgets/controls",
            "_model_module_version": "1.5.0",
            "_model_name": "HBoxModel",
            "_view_count": null,
            "_view_module": "@jupyter-widgets/controls",
            "_view_module_version": "1.5.0",
            "_view_name": "HBoxView",
            "box_style": "",
            "children": [
              "IPY_MODEL_e5bbc06f956c4cb6aae2e6dabefcb7b9",
              "IPY_MODEL_786a77a9dffc41b5afa5db435e1a0eca",
              "IPY_MODEL_daf3e15b1fb14478a403e05c19b13b9b"
            ],
            "layout": "IPY_MODEL_b9ec891103bd47fbb7af2985b4fdb857"
          }
        },
        "e5bbc06f956c4cb6aae2e6dabefcb7b9": {
          "model_module": "@jupyter-widgets/controls",
          "model_name": "HTMLModel",
          "model_module_version": "1.5.0",
          "state": {
            "_dom_classes": [],
            "_model_module": "@jupyter-widgets/controls",
            "_model_module_version": "1.5.0",
            "_model_name": "HTMLModel",
            "_view_count": null,
            "_view_module": "@jupyter-widgets/controls",
            "_view_module_version": "1.5.0",
            "_view_name": "HTMLView",
            "description": "",
            "description_tooltip": null,
            "layout": "IPY_MODEL_756ab12264ef4b1db36e5e21c50748de",
            "placeholder": "​",
            "style": "IPY_MODEL_dee353ecc5d04c7d8caf48ab606e6861",
            "value": ""
          }
        },
        "786a77a9dffc41b5afa5db435e1a0eca": {
          "model_module": "@jupyter-widgets/controls",
          "model_name": "FloatProgressModel",
          "model_module_version": "1.5.0",
          "state": {
            "_dom_classes": [],
            "_model_module": "@jupyter-widgets/controls",
            "_model_module_version": "1.5.0",
            "_model_name": "FloatProgressModel",
            "_view_count": null,
            "_view_module": "@jupyter-widgets/controls",
            "_view_module_version": "1.5.0",
            "_view_name": "ProgressView",
            "bar_style": "success",
            "description": "",
            "description_tooltip": null,
            "layout": "IPY_MODEL_d4c89c9942734d0b8d87321ffc6ef0e9",
            "max": 1,
            "min": 0,
            "orientation": "horizontal",
            "style": "IPY_MODEL_75d78e7d439143c785d23de59f417030",
            "value": 0
          }
        },
        "daf3e15b1fb14478a403e05c19b13b9b": {
          "model_module": "@jupyter-widgets/controls",
          "model_name": "HTMLModel",
          "model_module_version": "1.5.0",
          "state": {
            "_dom_classes": [],
            "_model_module": "@jupyter-widgets/controls",
            "_model_module_version": "1.5.0",
            "_model_name": "HTMLModel",
            "_view_count": null,
            "_view_module": "@jupyter-widgets/controls",
            "_view_module_version": "1.5.0",
            "_view_name": "HTMLView",
            "description": "",
            "description_tooltip": null,
            "layout": "IPY_MODEL_1a9faef5df5140539974601c1fcecfd9",
            "placeholder": "​",
            "style": "IPY_MODEL_a9efec215f22413c8912942a11c722aa",
            "value": " 0/0 [00:00&lt;?, ?it/s]"
          }
        },
        "b9ec891103bd47fbb7af2985b4fdb857": {
          "model_module": "@jupyter-widgets/base",
          "model_name": "LayoutModel",
          "model_module_version": "1.2.0",
          "state": {
            "_model_module": "@jupyter-widgets/base",
            "_model_module_version": "1.2.0",
            "_model_name": "LayoutModel",
            "_view_count": null,
            "_view_module": "@jupyter-widgets/base",
            "_view_module_version": "1.2.0",
            "_view_name": "LayoutView",
            "align_content": null,
            "align_items": null,
            "align_self": null,
            "border": null,
            "bottom": null,
            "display": null,
            "flex": null,
            "flex_flow": null,
            "grid_area": null,
            "grid_auto_columns": null,
            "grid_auto_flow": null,
            "grid_auto_rows": null,
            "grid_column": null,
            "grid_gap": null,
            "grid_row": null,
            "grid_template_areas": null,
            "grid_template_columns": null,
            "grid_template_rows": null,
            "height": null,
            "justify_content": null,
            "justify_items": null,
            "left": null,
            "margin": null,
            "max_height": null,
            "max_width": null,
            "min_height": null,
            "min_width": null,
            "object_fit": null,
            "object_position": null,
            "order": null,
            "overflow": null,
            "overflow_x": null,
            "overflow_y": null,
            "padding": null,
            "right": null,
            "top": null,
            "visibility": null,
            "width": null
          }
        },
        "756ab12264ef4b1db36e5e21c50748de": {
          "model_module": "@jupyter-widgets/base",
          "model_name": "LayoutModel",
          "model_module_version": "1.2.0",
          "state": {
            "_model_module": "@jupyter-widgets/base",
            "_model_module_version": "1.2.0",
            "_model_name": "LayoutModel",
            "_view_count": null,
            "_view_module": "@jupyter-widgets/base",
            "_view_module_version": "1.2.0",
            "_view_name": "LayoutView",
            "align_content": null,
            "align_items": null,
            "align_self": null,
            "border": null,
            "bottom": null,
            "display": null,
            "flex": null,
            "flex_flow": null,
            "grid_area": null,
            "grid_auto_columns": null,
            "grid_auto_flow": null,
            "grid_auto_rows": null,
            "grid_column": null,
            "grid_gap": null,
            "grid_row": null,
            "grid_template_areas": null,
            "grid_template_columns": null,
            "grid_template_rows": null,
            "height": null,
            "justify_content": null,
            "justify_items": null,
            "left": null,
            "margin": null,
            "max_height": null,
            "max_width": null,
            "min_height": null,
            "min_width": null,
            "object_fit": null,
            "object_position": null,
            "order": null,
            "overflow": null,
            "overflow_x": null,
            "overflow_y": null,
            "padding": null,
            "right": null,
            "top": null,
            "visibility": null,
            "width": null
          }
        },
        "dee353ecc5d04c7d8caf48ab606e6861": {
          "model_module": "@jupyter-widgets/controls",
          "model_name": "DescriptionStyleModel",
          "model_module_version": "1.5.0",
          "state": {
            "_model_module": "@jupyter-widgets/controls",
            "_model_module_version": "1.5.0",
            "_model_name": "DescriptionStyleModel",
            "_view_count": null,
            "_view_module": "@jupyter-widgets/base",
            "_view_module_version": "1.2.0",
            "_view_name": "StyleView",
            "description_width": ""
          }
        },
        "d4c89c9942734d0b8d87321ffc6ef0e9": {
          "model_module": "@jupyter-widgets/base",
          "model_name": "LayoutModel",
          "model_module_version": "1.2.0",
          "state": {
            "_model_module": "@jupyter-widgets/base",
            "_model_module_version": "1.2.0",
            "_model_name": "LayoutModel",
            "_view_count": null,
            "_view_module": "@jupyter-widgets/base",
            "_view_module_version": "1.2.0",
            "_view_name": "LayoutView",
            "align_content": null,
            "align_items": null,
            "align_self": null,
            "border": null,
            "bottom": null,
            "display": null,
            "flex": null,
            "flex_flow": null,
            "grid_area": null,
            "grid_auto_columns": null,
            "grid_auto_flow": null,
            "grid_auto_rows": null,
            "grid_column": null,
            "grid_gap": null,
            "grid_row": null,
            "grid_template_areas": null,
            "grid_template_columns": null,
            "grid_template_rows": null,
            "height": null,
            "justify_content": null,
            "justify_items": null,
            "left": null,
            "margin": null,
            "max_height": null,
            "max_width": null,
            "min_height": null,
            "min_width": null,
            "object_fit": null,
            "object_position": null,
            "order": null,
            "overflow": null,
            "overflow_x": null,
            "overflow_y": null,
            "padding": null,
            "right": null,
            "top": null,
            "visibility": null,
            "width": "20px"
          }
        },
        "75d78e7d439143c785d23de59f417030": {
          "model_module": "@jupyter-widgets/controls",
          "model_name": "ProgressStyleModel",
          "model_module_version": "1.5.0",
          "state": {
            "_model_module": "@jupyter-widgets/controls",
            "_model_module_version": "1.5.0",
            "_model_name": "ProgressStyleModel",
            "_view_count": null,
            "_view_module": "@jupyter-widgets/base",
            "_view_module_version": "1.2.0",
            "_view_name": "StyleView",
            "bar_color": null,
            "description_width": ""
          }
        },
        "1a9faef5df5140539974601c1fcecfd9": {
          "model_module": "@jupyter-widgets/base",
          "model_name": "LayoutModel",
          "model_module_version": "1.2.0",
          "state": {
            "_model_module": "@jupyter-widgets/base",
            "_model_module_version": "1.2.0",
            "_model_name": "LayoutModel",
            "_view_count": null,
            "_view_module": "@jupyter-widgets/base",
            "_view_module_version": "1.2.0",
            "_view_name": "LayoutView",
            "align_content": null,
            "align_items": null,
            "align_self": null,
            "border": null,
            "bottom": null,
            "display": null,
            "flex": null,
            "flex_flow": null,
            "grid_area": null,
            "grid_auto_columns": null,
            "grid_auto_flow": null,
            "grid_auto_rows": null,
            "grid_column": null,
            "grid_gap": null,
            "grid_row": null,
            "grid_template_areas": null,
            "grid_template_columns": null,
            "grid_template_rows": null,
            "height": null,
            "justify_content": null,
            "justify_items": null,
            "left": null,
            "margin": null,
            "max_height": null,
            "max_width": null,
            "min_height": null,
            "min_width": null,
            "object_fit": null,
            "object_position": null,
            "order": null,
            "overflow": null,
            "overflow_x": null,
            "overflow_y": null,
            "padding": null,
            "right": null,
            "top": null,
            "visibility": null,
            "width": null
          }
        },
        "a9efec215f22413c8912942a11c722aa": {
          "model_module": "@jupyter-widgets/controls",
          "model_name": "DescriptionStyleModel",
          "model_module_version": "1.5.0",
          "state": {
            "_model_module": "@jupyter-widgets/controls",
            "_model_module_version": "1.5.0",
            "_model_name": "DescriptionStyleModel",
            "_view_count": null,
            "_view_module": "@jupyter-widgets/base",
            "_view_module_version": "1.2.0",
            "_view_name": "StyleView",
            "description_width": ""
          }
        }
      }
    }
  },
  "cells": [
    {
      "cell_type": "markdown",
      "metadata": {
        "id": "view-in-github",
        "colab_type": "text"
      },
      "source": [
        "<a href=\"https://colab.research.google.com/github/kpapdac/graphicalModels/blob/main/pgm_beliefpropagation.ipynb\" target=\"_parent\"><img src=\"https://colab.research.google.com/assets/colab-badge.svg\" alt=\"Open In Colab\"/></a>"
      ]
    },
    {
      "cell_type": "code",
      "execution_count": 12,
      "metadata": {
        "id": "bsPMsTAzf29z"
      },
      "outputs": [],
      "source": [
        "import numpy as np\n",
        "import pandas as pd\n",
        "from pgmpy.models import BayesianNetwork\n",
        "from pgmpy.inference import BeliefPropagation\n",
        "values = pd.DataFrame(np.random.normal([3,4,5], [1,0.4,0.5], size=(100, 3)),\n",
        "                      columns=['X', 'Y', 'Z'])\n",
        "model = BayesianNetwork([('X', 'Y'), ('Y', 'Z')])\n",
        "model.fit(values)\n",
        "\n",
        "inference = BeliefPropagation(model)\n",
        "#inference.induced_graph(['X','Y','Z'])"
      ]
    },
    {
      "cell_type": "code",
      "source": [
        "q = inference._query(variables=['X','Y'],operation='marginalize',evidence={'Z':-100},joint=True)\n",
        "q.values.sum()#['X'].variables, q['X'].cardinality, q['X'].values#, q['Y'].variables, q['Y'].cardinality, q['Y'].values"
      ],
      "metadata": {
        "colab": {
          "base_uri": "https://localhost:8080/",
          "height": 123,
          "referenced_widgets": [
            "5d5f57236d014b0395f15b9570e47d3a",
            "d8ec7f54d44347ad8ad8e36dab91360c",
            "cde875f85ff5412492aa170d2b23dc0d",
            "eeac89e5d0d44a1691889d4a58e57193",
            "d107c231ca3a40a3bada654c532e3d1c",
            "6b836efe805942e2ab39c1771ac4b4f1",
            "a584ec9b4f924fea926424850d3282b7",
            "92125f4ed1d04cc3a79652cde433f223",
            "b51bc9b6f04c414eb88e6a11128dc505",
            "8aece09d35fb4b8ea50b17d3f0ee5f52",
            "74e1fa211acb4a98be561fd440d87de5"
          ]
        },
        "id": "I_6hnzv6wigU",
        "outputId": "b8322197-1895-4dd0-b61f-897155f8791c"
      },
      "execution_count": 13,
      "outputs": [
        {
          "output_type": "stream",
          "name": "stderr",
          "text": [
            "/usr/local/lib/python3.7/dist-packages/pgmpy/factors/discrete/DiscreteFactor.py:537: UserWarning: Found unknown state name. Trying to switch to using all state names as state numbers\n",
            "  UserWarning,\n"
          ]
        },
        {
          "output_type": "display_data",
          "data": {
            "text/plain": [
              "0it [00:00, ?it/s]"
            ],
            "application/vnd.jupyter.widget-view+json": {
              "version_major": 2,
              "version_minor": 0,
              "model_id": "5d5f57236d014b0395f15b9570e47d3a"
            }
          },
          "metadata": {}
        },
        {
          "output_type": "execute_result",
          "data": {
            "text/plain": [
              "0.01"
            ]
          },
          "metadata": {},
          "execution_count": 13
        }
      ]
    },
    {
      "cell_type": "code",
      "source": [
        "q = inference._query(variables=['X','Y','Z'],operation='maximize',joint=False)\n",
        "q"
      ],
      "metadata": {
        "colab": {
          "base_uri": "https://localhost:8080/",
          "height": 66,
          "referenced_widgets": [
            "619ebede04614988872a81b611061f74",
            "aba68cdfc79249e5ab86869504abcec4",
            "ee2e7f5a1c124c8da65385f756996987",
            "99b87c0202d64f18ad0748429283b061",
            "348e09bba1184f1794de3fbd8419c286",
            "287bd1e4de1946dda7bae22032e44789",
            "af089bca7cd6435b951b619bde9d7ab9",
            "5db2e5fcb3994abdbba1d0e34cea4ade",
            "8ba9c4a73d4f4356a4de547c18b6376c",
            "2da9e6cd478149c484e844ffaf349efc",
            "95ab7749df684ac9b8b6781969f95ca4"
          ]
        },
        "id": "IV2tc6wH711X",
        "outputId": "c21f4a6a-c001-4190-ffbf-690887347d25"
      },
      "execution_count": 14,
      "outputs": [
        {
          "output_type": "display_data",
          "data": {
            "text/plain": [
              "0it [00:00, ?it/s]"
            ],
            "application/vnd.jupyter.widget-view+json": {
              "version_major": 2,
              "version_minor": 0,
              "model_id": "619ebede04614988872a81b611061f74"
            }
          },
          "metadata": {}
        },
        {
          "output_type": "execute_result",
          "data": {
            "text/plain": [
              "{'X': 2.410163099232135, 'Y': 3.126183103950338, 'Z': 4.452107002027067}"
            ]
          },
          "metadata": {},
          "execution_count": 14
        }
      ]
    },
    {
      "cell_type": "code",
      "source": [
        "inference.map_query(variables=['X'], evidence={'Z':99,'Y':4})"
      ],
      "metadata": {
        "colab": {
          "base_uri": "https://localhost:8080/",
          "height": 123,
          "referenced_widgets": [
            "95cfbb103f3944689d362e56ac6fdb28",
            "a8d22f89dd2c43708111325f07a3c7fc",
            "fc679ee1f8e443a49ab996cf5106a5fc",
            "8e953a1d05ae4e6fa8efb907aa174edc",
            "86f41a56cbc946eabc66d43a8c7a797a",
            "7fcab91410e848c3ada8fc0c452160de",
            "bbb1a813fc494bc29042f2718a8c192d",
            "82262dc56c2a48ff99223d37f5167406",
            "c13bd49587d34d9fb15d293d7810bd3a",
            "1c67c69beb8a451080f6f901956cd7bb",
            "d64602a7ae324dd096ec97f6282567d8"
          ]
        },
        "id": "69njlLu_CdH8",
        "outputId": "2e36793e-4250-4d49-d4cd-97e23970fc1d"
      },
      "execution_count": 11,
      "outputs": [
        {
          "output_type": "stream",
          "name": "stderr",
          "text": [
            "/usr/local/lib/python3.7/dist-packages/pgmpy/factors/discrete/DiscreteFactor.py:537: UserWarning: Found unknown state name. Trying to switch to using all state names as state numbers\n",
            "  UserWarning,\n"
          ]
        },
        {
          "output_type": "display_data",
          "data": {
            "text/plain": [
              "0it [00:00, ?it/s]"
            ],
            "application/vnd.jupyter.widget-view+json": {
              "version_major": 2,
              "version_minor": 0,
              "model_id": "95cfbb103f3944689d362e56ac6fdb28"
            }
          },
          "metadata": {}
        },
        {
          "output_type": "execute_result",
          "data": {
            "text/plain": [
              "{'X': -0.34550389002273985}"
            ]
          },
          "metadata": {},
          "execution_count": 11
        }
      ]
    },
    {
      "cell_type": "code",
      "source": [
        "phi_query = inference.map_query(['X', 'Y'], {'Z':1})"
      ],
      "metadata": {
        "colab": {
          "base_uri": "https://localhost:8080/",
          "height": 105,
          "referenced_widgets": [
            "d89da7164b4a4bf08a0b045b4dfa2eb8",
            "e5bbc06f956c4cb6aae2e6dabefcb7b9",
            "786a77a9dffc41b5afa5db435e1a0eca",
            "daf3e15b1fb14478a403e05c19b13b9b",
            "b9ec891103bd47fbb7af2985b4fdb857",
            "756ab12264ef4b1db36e5e21c50748de",
            "dee353ecc5d04c7d8caf48ab606e6861",
            "d4c89c9942734d0b8d87321ffc6ef0e9",
            "75d78e7d439143c785d23de59f417030",
            "1a9faef5df5140539974601c1fcecfd9",
            "a9efec215f22413c8912942a11c722aa"
          ]
        },
        "id": "bwG2iE9Df8TH",
        "outputId": "1cbcd9bb-d5f8-4c68-f94f-bb2c1c915e36"
      },
      "execution_count": 3,
      "outputs": [
        {
          "output_type": "stream",
          "name": "stderr",
          "text": [
            "/usr/local/lib/python3.7/dist-packages/pgmpy/factors/discrete/DiscreteFactor.py:537: UserWarning: Found unknown state name. Trying to switch to using all state names as state numbers\n",
            "  UserWarning,\n"
          ]
        },
        {
          "output_type": "display_data",
          "data": {
            "text/plain": [
              "0it [00:00, ?it/s]"
            ],
            "application/vnd.jupyter.widget-view+json": {
              "version_major": 2,
              "version_minor": 0,
              "model_id": "d89da7164b4a4bf08a0b045b4dfa2eb8"
            }
          },
          "metadata": {}
        }
      ]
    },
    {
      "cell_type": "code",
      "source": [
        "phi_query"
      ],
      "metadata": {
        "colab": {
          "base_uri": "https://localhost:8080/"
        },
        "id": "2EFwfORB-wiO",
        "outputId": "182960f8-e5fc-41b8-9b13-5e57137b4051"
      },
      "execution_count": 4,
      "outputs": [
        {
          "output_type": "execute_result",
          "data": {
            "text/plain": [
              "{'X': 3.3038091514367047, 'Y': 3.4477211761287565}"
            ]
          },
          "metadata": {},
          "execution_count": 4
        }
      ]
    },
    {
      "cell_type": "code",
      "source": [
        "from pgmpy.estimators import MaximumLikelihoodEstimator\n",
        "\n",
        "mle = MaximumLikelihoodEstimator(model=model, data=values)"
      ],
      "metadata": {
        "id": "ZZUp_Pb2gbTm"
      },
      "execution_count": 15,
      "outputs": []
    },
    {
      "cell_type": "code",
      "source": [
        "model.nodes()"
      ],
      "metadata": {
        "colab": {
          "base_uri": "https://localhost:8080/"
        },
        "id": "fgadFKZtR5Sj",
        "outputId": "a9a4d8b6-4623-4e3f-d6ad-f6edbfd37150"
      },
      "execution_count": 20,
      "outputs": [
        {
          "output_type": "execute_result",
          "data": {
            "text/plain": [
              "NodeView(('X', 'Y', 'Z'))"
            ]
          },
          "metadata": {},
          "execution_count": 20
        }
      ]
    },
    {
      "cell_type": "code",
      "source": [
        "mle.estimate_cpd('Y').values[0,:]"
      ],
      "metadata": {
        "colab": {
          "base_uri": "https://localhost:8080/"
        },
        "id": "gLSVLmHhREnv",
        "outputId": "58ffe474-38b2-47f0-e102-92a5897ae310"
      },
      "execution_count": 26,
      "outputs": [
        {
          "output_type": "execute_result",
          "data": {
            "text/plain": [
              "array([0., 0., 0., 0., 0., 0., 0., 0., 0., 0., 0., 0., 0., 0., 0., 0., 0.,\n",
              "       0., 0., 0., 0., 0., 0., 0., 0., 0., 0., 0., 0., 0., 1., 0., 0., 0.,\n",
              "       0., 0., 0., 0., 0., 0., 0., 0., 0., 0., 0., 0., 0., 0., 0., 0., 0.,\n",
              "       0., 0., 0., 0., 0., 0., 0., 0., 0., 0., 0., 0., 0., 0., 0., 0., 0.,\n",
              "       0., 0., 0., 0., 0., 0., 0., 0., 0., 0., 0., 0., 0., 0., 0., 0., 0.,\n",
              "       0., 0., 0., 0., 0., 0., 0., 0., 0., 0., 0., 0., 0., 0., 0.])"
            ]
          },
          "metadata": {},
          "execution_count": 26
        }
      ]
    },
    {
      "cell_type": "code",
      "source": [
        "from pgmpy.estimators import BayesianEstimator\n",
        "\n",
        "best = BayesianEstimator(model=model, data=values)\n",
        "\n",
        "print(best.estimate_cpd(node=\"X\", prior_type=\"BDeu\", equivalent_sample_size=1000))"
      ],
      "metadata": {
        "colab": {
          "base_uri": "https://localhost:8080/"
        },
        "id": "miRJMun5T-3k",
        "outputId": "152e8a33-344f-42c8-fce2-0986e97694f8"
      },
      "execution_count": 29,
      "outputs": [
        {
          "output_type": "stream",
          "name": "stdout",
          "text": [
            "+-----------------------+------+\n",
            "| X(1.0656614384167633) | 0.01 |\n",
            "+-----------------------+------+\n",
            "| X(1.0661741850706739) | 0.01 |\n",
            "+-----------------------+------+\n",
            "| X(1.218979882120836)  | 0.01 |\n",
            "+-----------------------+------+\n",
            "| X(1.2894112261977317) | 0.01 |\n",
            "+-----------------------+------+\n",
            "| X(1.3197359699634912) | 0.01 |\n",
            "+-----------------------+------+\n",
            "| X(1.4743788801340243) | 0.01 |\n",
            "+-----------------------+------+\n",
            "| X(1.5175203125153593) | 0.01 |\n",
            "+-----------------------+------+\n",
            "| X(1.553690467216959)  | 0.01 |\n",
            "+-----------------------+------+\n",
            "| X(1.6264351169032782) | 0.01 |\n",
            "+-----------------------+------+\n",
            "| X(1.638924091618424)  | 0.01 |\n",
            "+-----------------------+------+\n",
            "| X(1.6559443920496224) | 0.01 |\n",
            "+-----------------------+------+\n",
            "| X(1.6786170075594058) | 0.01 |\n",
            "+-----------------------+------+\n",
            "| X(1.690955648836388)  | 0.01 |\n",
            "+-----------------------+------+\n",
            "| X(1.7775245547442986) | 0.01 |\n",
            "+-----------------------+------+\n",
            "| X(1.782772636934841)  | 0.01 |\n",
            "+-----------------------+------+\n",
            "| X(1.863264388013782)  | 0.01 |\n",
            "+-----------------------+------+\n",
            "| X(1.8665433619157383) | 0.01 |\n",
            "+-----------------------+------+\n",
            "| X(1.9400578985882218) | 0.01 |\n",
            "+-----------------------+------+\n",
            "| X(1.966217389028691)  | 0.01 |\n",
            "+-----------------------+------+\n",
            "| X(1.9922056513217294) | 0.01 |\n",
            "+-----------------------+------+\n",
            "| X(2.0739669996196035) | 0.01 |\n",
            "+-----------------------+------+\n",
            "| X(2.0925096187605634) | 0.01 |\n",
            "+-----------------------+------+\n",
            "| X(2.138693006032467)  | 0.01 |\n",
            "+-----------------------+------+\n",
            "| X(2.17313886608056)   | 0.01 |\n",
            "+-----------------------+------+\n",
            "| X(2.204737587477166)  | 0.01 |\n",
            "+-----------------------+------+\n",
            "| X(2.212075122960087)  | 0.01 |\n",
            "+-----------------------+------+\n",
            "| X(2.247101576151333)  | 0.01 |\n",
            "+-----------------------+------+\n",
            "| X(2.266426233770291)  | 0.01 |\n",
            "+-----------------------+------+\n",
            "| X(2.277835179019747)  | 0.01 |\n",
            "+-----------------------+------+\n",
            "| X(2.3468815583711047) | 0.01 |\n",
            "+-----------------------+------+\n",
            "| X(2.410163099232135)  | 0.01 |\n",
            "+-----------------------+------+\n",
            "| X(2.4232777790761713) | 0.01 |\n",
            "+-----------------------+------+\n",
            "| X(2.433084385974196)  | 0.01 |\n",
            "+-----------------------+------+\n",
            "| X(2.5270489106626064) | 0.01 |\n",
            "+-----------------------+------+\n",
            "| X(2.5934903656138815) | 0.01 |\n",
            "+-----------------------+------+\n",
            "| X(2.5986693814650317) | 0.01 |\n",
            "+-----------------------+------+\n",
            "| X(2.6214969692673553) | 0.01 |\n",
            "+-----------------------+------+\n",
            "| X(2.6457064199395197) | 0.01 |\n",
            "+-----------------------+------+\n",
            "| X(2.6489869961215753) | 0.01 |\n",
            "+-----------------------+------+\n",
            "| X(2.6490400440784554) | 0.01 |\n",
            "+-----------------------+------+\n",
            "| X(2.672323443913774)  | 0.01 |\n",
            "+-----------------------+------+\n",
            "| X(2.7569858271753422) | 0.01 |\n",
            "+-----------------------+------+\n",
            "| X(2.773717157313843)  | 0.01 |\n",
            "+-----------------------+------+\n",
            "| X(2.778514472553833)  | 0.01 |\n",
            "+-----------------------+------+\n",
            "| X(2.7897605007801953) | 0.01 |\n",
            "+-----------------------+------+\n",
            "| X(2.8044158266565047) | 0.01 |\n",
            "+-----------------------+------+\n",
            "| X(2.8391260177923345) | 0.01 |\n",
            "+-----------------------+------+\n",
            "| X(2.8525331805680723) | 0.01 |\n",
            "+-----------------------+------+\n",
            "| X(2.874488142162986)  | 0.01 |\n",
            "+-----------------------+------+\n",
            "| X(2.9068645472361396) | 0.01 |\n",
            "+-----------------------+------+\n",
            "| X(2.9143841990894583) | 0.01 |\n",
            "+-----------------------+------+\n",
            "| X(2.966044661392585)  | 0.01 |\n",
            "+-----------------------+------+\n",
            "| X(2.9689229188563098) | 0.01 |\n",
            "+-----------------------+------+\n",
            "| X(2.9932971292874546) | 0.01 |\n",
            "+-----------------------+------+\n",
            "| X(2.9943240132101456) | 0.01 |\n",
            "+-----------------------+------+\n",
            "| X(2.9968196067846162) | 0.01 |\n",
            "+-----------------------+------+\n",
            "| X(3.051047318500146)  | 0.01 |\n",
            "+-----------------------+------+\n",
            "| X(3.0529926776354466) | 0.01 |\n",
            "+-----------------------+------+\n",
            "| X(3.061507795066671)  | 0.01 |\n",
            "+-----------------------+------+\n",
            "| X(3.0617402831269978) | 0.01 |\n",
            "+-----------------------+------+\n",
            "| X(3.064150306291943)  | 0.01 |\n",
            "+-----------------------+------+\n",
            "| X(3.110424010756011)  | 0.01 |\n",
            "+-----------------------+------+\n",
            "| X(3.124753564219106)  | 0.01 |\n",
            "+-----------------------+------+\n",
            "| X(3.1341294194474187) | 0.01 |\n",
            "+-----------------------+------+\n",
            "| X(3.1434868989781584) | 0.01 |\n",
            "+-----------------------+------+\n",
            "| X(3.14449859078111)   | 0.01 |\n",
            "+-----------------------+------+\n",
            "| X(3.176488926368962)  | 0.01 |\n",
            "+-----------------------+------+\n",
            "| X(3.2139565372511743) | 0.01 |\n",
            "+-----------------------+------+\n",
            "| X(3.2460176176183437) | 0.01 |\n",
            "+-----------------------+------+\n",
            "| X(3.2589443802034563) | 0.01 |\n",
            "+-----------------------+------+\n",
            "| X(3.2785164097210244) | 0.01 |\n",
            "+-----------------------+------+\n",
            "| X(3.302327120960123)  | 0.01 |\n",
            "+-----------------------+------+\n",
            "| X(3.3475823431975105) | 0.01 |\n",
            "+-----------------------+------+\n",
            "| X(3.348948960031549)  | 0.01 |\n",
            "+-----------------------+------+\n",
            "| X(3.382645413399486)  | 0.01 |\n",
            "+-----------------------+------+\n",
            "| X(3.417057796374841)  | 0.01 |\n",
            "+-----------------------+------+\n",
            "| X(3.471581153144515)  | 0.01 |\n",
            "+-----------------------+------+\n",
            "| X(3.5121086935805996) | 0.01 |\n",
            "+-----------------------+------+\n",
            "| X(3.5768409195743547) | 0.01 |\n",
            "+-----------------------+------+\n",
            "| X(3.6801087766175007) | 0.01 |\n",
            "+-----------------------+------+\n",
            "| X(3.6893555495857053) | 0.01 |\n",
            "+-----------------------+------+\n",
            "| X(3.7505843388994267) | 0.01 |\n",
            "+-----------------------+------+\n",
            "| X(3.7873579580424384) | 0.01 |\n",
            "+-----------------------+------+\n",
            "| X(3.8605709610273324) | 0.01 |\n",
            "+-----------------------+------+\n",
            "| X(3.8638549040461947) | 0.01 |\n",
            "+-----------------------+------+\n",
            "| X(3.940669232619137)  | 0.01 |\n",
            "+-----------------------+------+\n",
            "| X(3.9572312382491273) | 0.01 |\n",
            "+-----------------------+------+\n",
            "| X(4.0136423431858885) | 0.01 |\n",
            "+-----------------------+------+\n",
            "| X(4.033175135266889)  | 0.01 |\n",
            "+-----------------------+------+\n",
            "| X(4.0723709456918336) | 0.01 |\n",
            "+-----------------------+------+\n",
            "| X(4.07686333094486)   | 0.01 |\n",
            "+-----------------------+------+\n",
            "| X(4.135669575060214)  | 0.01 |\n",
            "+-----------------------+------+\n",
            "| X(4.137573975677464)  | 0.01 |\n",
            "+-----------------------+------+\n",
            "| X(4.216264946419234)  | 0.01 |\n",
            "+-----------------------+------+\n",
            "| X(4.380005172557297)  | 0.01 |\n",
            "+-----------------------+------+\n",
            "| X(4.528659226940816)  | 0.01 |\n",
            "+-----------------------+------+\n",
            "| X(4.5878015195224675) | 0.01 |\n",
            "+-----------------------+------+\n",
            "| X(4.588035946905477)  | 0.01 |\n",
            "+-----------------------+------+\n",
            "| X(5.006540349535429)  | 0.01 |\n",
            "+-----------------------+------+\n",
            "| X(5.042281689744584)  | 0.01 |\n",
            "+-----------------------+------+\n"
          ]
        }
      ]
    },
    {
      "cell_type": "code",
      "source": [
        "!pip install pgmpy"
      ],
      "metadata": {
        "colab": {
          "base_uri": "https://localhost:8080/"
        },
        "id": "cav_uiWLgwaQ",
        "outputId": "cc7b2d66-133c-4723-8d4e-c4dae22673fc"
      },
      "execution_count": 2,
      "outputs": [
        {
          "output_type": "stream",
          "name": "stdout",
          "text": [
            "Collecting pgmpy\n",
            "  Downloading pgmpy-0.1.18-py3-none-any.whl (1.9 MB)\n",
            "\u001b[K     |████████████████████████████████| 1.9 MB 5.2 MB/s \n",
            "\u001b[?25hRequirement already satisfied: pandas in /usr/local/lib/python3.7/dist-packages (from pgmpy) (1.3.5)\n",
            "Requirement already satisfied: tqdm in /usr/local/lib/python3.7/dist-packages (from pgmpy) (4.63.0)\n",
            "Requirement already satisfied: scipy in /usr/local/lib/python3.7/dist-packages (from pgmpy) (1.4.1)\n",
            "Requirement already satisfied: networkx in /usr/local/lib/python3.7/dist-packages (from pgmpy) (2.6.3)\n",
            "Requirement already satisfied: torch in /usr/local/lib/python3.7/dist-packages (from pgmpy) (1.10.0+cu111)\n",
            "Requirement already satisfied: statsmodels in /usr/local/lib/python3.7/dist-packages (from pgmpy) (0.10.2)\n",
            "Requirement already satisfied: joblib in /usr/local/lib/python3.7/dist-packages (from pgmpy) (1.1.0)\n",
            "Requirement already satisfied: scikit-learn in /usr/local/lib/python3.7/dist-packages (from pgmpy) (1.0.2)\n",
            "Requirement already satisfied: pyparsing in /usr/local/lib/python3.7/dist-packages (from pgmpy) (3.0.7)\n",
            "Requirement already satisfied: numpy in /usr/local/lib/python3.7/dist-packages (from pgmpy) (1.21.5)\n",
            "Requirement already satisfied: pytz>=2017.3 in /usr/local/lib/python3.7/dist-packages (from pandas->pgmpy) (2018.9)\n",
            "Requirement already satisfied: python-dateutil>=2.7.3 in /usr/local/lib/python3.7/dist-packages (from pandas->pgmpy) (2.8.2)\n",
            "Requirement already satisfied: six>=1.5 in /usr/local/lib/python3.7/dist-packages (from python-dateutil>=2.7.3->pandas->pgmpy) (1.15.0)\n",
            "Requirement already satisfied: threadpoolctl>=2.0.0 in /usr/local/lib/python3.7/dist-packages (from scikit-learn->pgmpy) (3.1.0)\n",
            "Requirement already satisfied: patsy>=0.4.0 in /usr/local/lib/python3.7/dist-packages (from statsmodels->pgmpy) (0.5.2)\n",
            "Requirement already satisfied: typing-extensions in /usr/local/lib/python3.7/dist-packages (from torch->pgmpy) (3.10.0.2)\n",
            "Installing collected packages: pgmpy\n",
            "Successfully installed pgmpy-0.1.18\n"
          ]
        }
      ]
    },
    {
      "cell_type": "code",
      "source": [
        ""
      ],
      "metadata": {
        "id": "vkJHqpxd-PUo"
      },
      "execution_count": null,
      "outputs": []
    }
  ]
}